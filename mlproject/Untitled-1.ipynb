{
 "cells": [
  {
   "cell_type": "code",
   "execution_count": null,
   "metadata": {},
   "outputs": [],
   "source": [
    "import numpy as np\n",
    "import pandas as pd\n",
    "import pickle as pkl\n",
    "from sklearn.ensemble import RandomForestClassifier\n",
    "from sklearn.tree import plot_tree\n",
    "from sklearn.model_selection import train_test_split, PredefinedSplit,GridSearchCV\n",
    "from sklearn.metrics import f1_score, precision_score, recall_score,accuracy_score\n",
    "import matplotlib.pyplot as plt\n",
    "import seaborn as sns\n",
    "from sklearn.preprocessing import OneHotEncoder\n",
    "from sklearn.linear_model import LogisticRegression\n",
    "import sklearn.metrics as metrics"
   ]
  },
  {
   "cell_type": "code",
   "execution_count": null,
   "metadata": {},
   "outputs": [],
   "source": [
    "df=pd.read_csv(r\"C:\\Users\\Windows 10\\OneDrive\\Documents\\excel folder\\ResearchProjectMentis\\csvre (1).csv\", encoding='latin-1')\n",
    "df=pd.DataFrame(df)\n"
   ]
  },
  {
   "cell_type": "code",
   "execution_count": null,
   "metadata": {},
   "outputs": [],
   "source": [
    "df = df.drop(df[df.perception_trustworthy == ' '].index)\n",
    "df=df.iloc[:,:].astype(int)\n",
    "dftest2=df.copy()\n",
    "import sys\n",
    "sys.setrecursionlimit(10000)\n"
   ]
  },
  {
   "cell_type": "code",
   "execution_count": null,
   "metadata": {},
   "outputs": [],
   "source": [
    "dftest2['perception_usefullness'] = 8-dftest2['perception_usefullness']\n",
    "dftest2['personality_extroversion_2']=8-dftest2['personality_extroversion_reverse']\n",
    "dftest2['personality_neuroticism_2']=8-dftest2['personality_neuroticism_reverse']\n",
    "dftest2['personality_extroversion']=(dftest2['personality_extroversion']+dftest2['personality_extroversion_2'])/2\n",
    "dftest2['personality_neuroticism']=(dftest2['personality_neuroticism']+dftest2['personality_neuroticism_2'])/2\n",
    "dftest2 =dftest2.drop(['personality_extroversion_reverse','personality_neuroticism_reverse','personality_extroversion_2','personality_neuroticism_2'], axis=1)"
   ]
  },
  {
   "cell_type": "code",
   "execution_count": null,
   "metadata": {},
   "outputs": [],
   "source": [
    "## identify x, y\n",
    "y = dftest2['intention_to_buy']\n",
    "X = dftest2.copy().drop(['intention_to_buy','ID'], axis=1)"
   ]
  },
  {
   "cell_type": "code",
   "execution_count": null,
   "metadata": {},
   "outputs": [],
   "source": [
    "X_train, X_test, y_train, y_test = train_test_split(X, y, test_size = 0.25, random_state = 0)"
   ]
  },
  {
   "cell_type": "code",
   "execution_count": null,
   "metadata": {},
   "outputs": [],
   "source": [
    "rf_opt= RandomForestClassifier(n_estimators = 100, max_depth = 4,\n",
    "                                min_samples_leaf = 1, min_samples_split = 0.001,\n",
    "                                max_features=\"sqrt\", max_samples = 0.5,\n",
    "                                random_state = 0)\n",
    "\n",
    "rf_opt = rf_opt.fit(X_train, y_train)"
   ]
  },
  {
   "cell_type": "code",
   "execution_count": null,
   "metadata": {},
   "outputs": [],
   "source": [
    "path=r'C:\\Users\\Windows 10\\mlproject\\picklemodel'\n",
    "with open(path+\".pickle\",'wb') as w:\n",
    "  pkl.dump(rf_opt,w)"
   ]
  },
  {
   "cell_type": "code",
   "execution_count": null,
   "metadata": {},
   "outputs": [],
   "source": [
    "path=r'C:\\Users\\Windows 10\\mlproject\\picklemodel'\n",
    "with open(path+'.pickle','rb') as to_read:\n",
    "  model = pkl.load(to_read)\n",
    "  "
   ]
  },
  {
   "cell_type": "code",
   "execution_count": null,
   "metadata": {},
   "outputs": [],
   "source": [
    "import joblib\n",
    "joblib.dump(rf_opt, r\"C:\\Users\\Windows 10\\mlproject\")"
   ]
  },
  {
   "cell_type": "code",
   "execution_count": null,
   "metadata": {},
   "outputs": [],
   "source": [
    "from joblib import dump, load\n",
    "dump(rf_opt, r\"C:\\Users\\Windows 10\\mlproject\\pkmodel\" + \".pickle\")"
   ]
  },
  {
   "cell_type": "code",
   "execution_count": null,
   "metadata": {},
   "outputs": [],
   "source": [
    "from joblib import dump, load\n",
    "model = load(r\"C:\\Users\\Windows 10\\mlproject\\pkmodel\" + \".pickle\")"
   ]
  },
  {
   "cell_type": "code",
   "execution_count": null,
   "metadata": {},
   "outputs": [],
   "source": [
    "pred= model.predict(X_train)\n",
    "pred"
   ]
  },
  {
   "cell_type": "code",
   "execution_count": null,
   "metadata": {},
   "outputs": [],
   "source": []
  }
 ],
 "metadata": {
  "kernelspec": {
   "display_name": "tutorial-env",
   "language": "python",
   "name": "python3"
  },
  "language_info": {
   "codemirror_mode": {
    "name": "ipython",
    "version": 3
   },
   "file_extension": ".py",
   "mimetype": "text/x-python",
   "name": "python",
   "nbconvert_exporter": "python",
   "pygments_lexer": "ipython3",
   "version": "3.10.9"
  },
  "orig_nbformat": 4
 },
 "nbformat": 4,
 "nbformat_minor": 2
}
